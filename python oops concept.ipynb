{
 "cells": [
  {
   "cell_type": "code",
   "execution_count": 4,
   "id": "5ee69a21",
   "metadata": {},
   "outputs": [],
   "source": [
    "# Encapsulation \n",
    "\n",
    "class money:\n",
    "    \n",
    "    def __init__(self, money):\n",
    "        self.__money = money\n",
    "        \n",
    "    def deposite(self, amount_deposite):\n",
    "        self.__money += amount_deposite\n",
    "    \n",
    "    def withdraw(self, amount_withdraw):\n",
    "        self.__money -= amount_withdraw\n",
    "        \n",
    "    def get_balance(self):\n",
    "        return self.__money"
   ]
  },
  {
   "cell_type": "code",
   "execution_count": 6,
   "id": "e2092e73",
   "metadata": {},
   "outputs": [],
   "source": [
    "person = money(5000)"
   ]
  },
  {
   "cell_type": "code",
   "execution_count": 7,
   "id": "cff40d3b",
   "metadata": {},
   "outputs": [],
   "source": [
    "person.deposite(100)"
   ]
  },
  {
   "cell_type": "code",
   "execution_count": 8,
   "id": "0f2b0f24",
   "metadata": {},
   "outputs": [
    {
     "data": {
      "text/plain": [
       "5100"
      ]
     },
     "execution_count": 8,
     "metadata": {},
     "output_type": "execute_result"
    }
   ],
   "source": [
    "person.get_balance()"
   ]
  },
  {
   "cell_type": "code",
   "execution_count": 9,
   "id": "40b2a073",
   "metadata": {},
   "outputs": [],
   "source": [
    "person.withdraw(100)"
   ]
  },
  {
   "cell_type": "code",
   "execution_count": 10,
   "id": "46e19a42",
   "metadata": {},
   "outputs": [
    {
     "data": {
      "text/plain": [
       "5000"
      ]
     },
     "execution_count": 10,
     "metadata": {},
     "output_type": "execute_result"
    }
   ],
   "source": [
    "person.get_balance()"
   ]
  },
  {
   "cell_type": "code",
   "execution_count": 16,
   "id": "887a2daf",
   "metadata": {},
   "outputs": [],
   "source": [
    "# polymorphism\n",
    "\n",
    "class shapes:\n",
    "    def area(self):\n",
    "        pass\n",
    "    \n",
    "    \n",
    "class rectangle(shapes):\n",
    "    def area(self):\n",
    "        return 'L * B'\n",
    "    \n",
    "class circle(shapes):\n",
    "    def area(self):\n",
    "        return 'Pie * r**2'"
   ]
  },
  {
   "cell_type": "code",
   "execution_count": 17,
   "id": "7c09b7c6",
   "metadata": {},
   "outputs": [],
   "source": [
    "def geometry(shape):\n",
    "    return shape.area()"
   ]
  },
  {
   "cell_type": "code",
   "execution_count": 18,
   "id": "64ba01da",
   "metadata": {},
   "outputs": [],
   "source": [
    "rec = rectangle()\n",
    "cir = circle()"
   ]
  },
  {
   "cell_type": "code",
   "execution_count": 19,
   "id": "364c4fea",
   "metadata": {},
   "outputs": [
    {
     "data": {
      "text/plain": [
       "'L * B'"
      ]
     },
     "execution_count": 19,
     "metadata": {},
     "output_type": "execute_result"
    }
   ],
   "source": [
    "geometry(rec)"
   ]
  },
  {
   "cell_type": "code",
   "execution_count": 20,
   "id": "33eb726d",
   "metadata": {},
   "outputs": [
    {
     "data": {
      "text/plain": [
       "'Pie * r**2'"
      ]
     },
     "execution_count": 20,
     "metadata": {},
     "output_type": "execute_result"
    }
   ],
   "source": [
    "geometry(cir)"
   ]
  },
  {
   "cell_type": "code",
   "execution_count": 25,
   "id": "23dd6f3a",
   "metadata": {},
   "outputs": [],
   "source": [
    "# abstraction \n",
    "\n",
    "from abc import ABC, abstractmethod\n",
    "\n",
    "class vehicle(ABC):\n",
    "    @abstractmethod\n",
    "    def start(self):\n",
    "        pass\n",
    "    \n",
    "    @abstractmethod\n",
    "    def stop(self):\n",
    "        pass\n",
    "    \n",
    "    @abstractmethod\n",
    "    def drive(self):\n",
    "        pass"
   ]
  },
  {
   "cell_type": "code",
   "execution_count": 26,
   "id": "2aa00a3a",
   "metadata": {},
   "outputs": [],
   "source": [
    "class car(vehicle):\n",
    "    \n",
    "    def start(self):\n",
    "        return 'Car Started'\n",
    "    \n",
    "    def stop(self):\n",
    "        return 'Car stopped'\n",
    "    \n",
    "    def drive(self):\n",
    "        return 'driving'"
   ]
  },
  {
   "cell_type": "code",
   "execution_count": 27,
   "id": "9e3008d5",
   "metadata": {},
   "outputs": [],
   "source": [
    "car = car()"
   ]
  },
  {
   "cell_type": "code",
   "execution_count": 28,
   "id": "314fac7f",
   "metadata": {},
   "outputs": [
    {
     "data": {
      "text/plain": [
       "'driving'"
      ]
     },
     "execution_count": 28,
     "metadata": {},
     "output_type": "execute_result"
    }
   ],
   "source": [
    "car.drive()"
   ]
  },
  {
   "cell_type": "code",
   "execution_count": 30,
   "id": "d0ccc4bb",
   "metadata": {},
   "outputs": [
    {
     "data": {
      "text/plain": [
       "'Car Started'"
      ]
     },
     "execution_count": 30,
     "metadata": {},
     "output_type": "execute_result"
    }
   ],
   "source": [
    "car.start()"
   ]
  },
  {
   "cell_type": "code",
   "execution_count": 31,
   "id": "e488cedf",
   "metadata": {},
   "outputs": [
    {
     "data": {
      "text/plain": [
       "'Car stopped'"
      ]
     },
     "execution_count": 31,
     "metadata": {},
     "output_type": "execute_result"
    }
   ],
   "source": [
    "car.stop()"
   ]
  },
  {
   "cell_type": "code",
   "execution_count": 32,
   "id": "1225dc39",
   "metadata": {},
   "outputs": [],
   "source": [
    "# inheritance \n",
    "\n",
    "class parent():\n",
    "    def earn(self):\n",
    "        print('earning')\n",
    "        \n",
    "class child(parent):\n",
    "    def earn(self):\n",
    "        print('spending')\n",
    "    \n",
    "    def playing(self):\n",
    "        print('playing')"
   ]
  },
  {
   "cell_type": "code",
   "execution_count": 33,
   "id": "3ca80302",
   "metadata": {},
   "outputs": [],
   "source": [
    "par = parent()"
   ]
  },
  {
   "cell_type": "code",
   "execution_count": 34,
   "id": "554c32a0",
   "metadata": {},
   "outputs": [],
   "source": [
    "child = child()"
   ]
  },
  {
   "cell_type": "code",
   "execution_count": 35,
   "id": "04b32b6f",
   "metadata": {},
   "outputs": [
    {
     "name": "stdout",
     "output_type": "stream",
     "text": [
      "playing\n"
     ]
    }
   ],
   "source": [
    "child.playing()"
   ]
  },
  {
   "cell_type": "code",
   "execution_count": 38,
   "id": "5090e81b",
   "metadata": {},
   "outputs": [
    {
     "name": "stdout",
     "output_type": "stream",
     "text": [
      "spending\n"
     ]
    }
   ],
   "source": [
    "child.earn()"
   ]
  },
  {
   "cell_type": "code",
   "execution_count": null,
   "id": "8a2cfb9f",
   "metadata": {},
   "outputs": [],
   "source": []
  },
  {
   "cell_type": "code",
   "execution_count": null,
   "id": "3d911b8f",
   "metadata": {},
   "outputs": [],
   "source": []
  }
 ],
 "metadata": {
  "kernelspec": {
   "display_name": "Python 3 (ipykernel)",
   "language": "python",
   "name": "python3"
  },
  "language_info": {
   "codemirror_mode": {
    "name": "ipython",
    "version": 3
   },
   "file_extension": ".py",
   "mimetype": "text/x-python",
   "name": "python",
   "nbconvert_exporter": "python",
   "pygments_lexer": "ipython3",
   "version": "3.11.4"
  }
 },
 "nbformat": 4,
 "nbformat_minor": 5
}
