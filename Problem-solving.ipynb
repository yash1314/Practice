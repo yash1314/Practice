{
 "cells": [
  {
   "cell_type": "markdown",
   "id": "5845cf84",
   "metadata": {},
   "source": [
    "Sum of Array Elements:\n",
    "\n",
    "- Write a function to calculate the sum of all elements in an array.\n",
    "Find Maximum and Minimum:\n",
    "\n",
    "- Write a function to find the maximum and minimum elements in an array.\n",
    "Average of Array Elements:\n",
    "\n",
    "- Write a function to calculate the average of elements in an array.\n",
    "Array Reversal:\n",
    "\n",
    "- Write a function to reverse the elements of an array.\n",
    "Count Even Numbers:\n",
    "\n",
    "- Write a function to count the number of even elements in an array.\n",
    "Array Copy:\n",
    "\n",
    "- Write a function to create a copy of an array.\n",
    "Check for Palindrome Array:\n",
    "\n",
    "- Write a function to check if an array is a palindrome (reads the same forwards and backwards).\n",
    "Find Index of Element:\n",
    "\n",
    "- Write a function to find the index of a specific element in an array.\n",
    "Remove Element:\n",
    "\n",
    "- Write a function to remove a specific element from an array.\n",
    "Array Sum Equals Target:\n",
    "\n",
    "- Given an array of integers, write a function to check if there are two numbers present such that their sum equals a given target."
   ]
  },
  {
   "cell_type": "markdown",
   "id": "dc297a2d",
   "metadata": {},
   "source": [
    "- Write a function to calculate the sum of all elements in an array."
   ]
  },
  {
   "cell_type": "code",
   "execution_count": 15,
   "id": "27830457",
   "metadata": {},
   "outputs": [],
   "source": [
    "def arr_sum(n):\n",
    "    total = 0\n",
    "    for i in n:\n",
    "        total+=i\n",
    "    return total"
   ]
  },
  {
   "cell_type": "code",
   "execution_count": 16,
   "id": "dfd285d6",
   "metadata": {},
   "outputs": [
    {
     "data": {
      "text/plain": [
       "3"
      ]
     },
     "execution_count": 16,
     "metadata": {},
     "output_type": "execute_result"
    }
   ],
   "source": [
    "arr_sum([1,2])"
   ]
  },
  {
   "cell_type": "markdown",
   "id": "882077bf",
   "metadata": {},
   "source": [
    "- Write a function to find the maximum and minimum elements in an array."
   ]
  },
  {
   "cell_type": "code",
   "execution_count": 34,
   "id": "eba638d5",
   "metadata": {},
   "outputs": [],
   "source": [
    "a = [5,4,3,2,7]"
   ]
  },
  {
   "cell_type": "code",
   "execution_count": 35,
   "id": "85bf838b",
   "metadata": {},
   "outputs": [],
   "source": [
    "min_n = a[0]\n",
    "max_n = a[0]\n",
    "\n",
    "for i in a:\n",
    "    if i > max_n:\n",
    "        max_n = i\n",
    "    if i < min_n:\n",
    "        min_n = i"
   ]
  },
  {
   "cell_type": "code",
   "execution_count": 36,
   "id": "7bc68e54",
   "metadata": {},
   "outputs": [
    {
     "data": {
      "text/plain": [
       "(2, 7)"
      ]
     },
     "execution_count": 36,
     "metadata": {},
     "output_type": "execute_result"
    }
   ],
   "source": [
    "min_n, max_n"
   ]
  },
  {
   "cell_type": "markdown",
   "id": "89ca1800",
   "metadata": {},
   "source": [
    "- Write a function to calculate the average of elements in an array"
   ]
  },
  {
   "cell_type": "code",
   "execution_count": 117,
   "id": "0ef0afc5",
   "metadata": {},
   "outputs": [
    {
     "data": {
      "text/plain": [
       "3.0"
      ]
     },
     "execution_count": 117,
     "metadata": {},
     "output_type": "execute_result"
    }
   ],
   "source": [
    "a = [1,2,3,4,5]\n",
    "total = 0\n",
    "for i in a:\n",
    "    total+=i\n",
    "    \n",
    "avg = total/len(a)\n",
    "avg"
   ]
  },
  {
   "cell_type": "markdown",
   "id": "5b47d1f6",
   "metadata": {},
   "source": [
    "- Write a function to reverse the elements of an array."
   ]
  },
  {
   "cell_type": "code",
   "execution_count": 37,
   "id": "bc35c686",
   "metadata": {},
   "outputs": [],
   "source": [
    "start = 0\n",
    "end = len(a) - 1\n",
    "\n",
    "while start < end:\n",
    "    a[start], a[end] = a[end], a[start] \n",
    "    start += 1\n",
    "    end -= 1"
   ]
  },
  {
   "cell_type": "code",
   "execution_count": 38,
   "id": "191c8090",
   "metadata": {},
   "outputs": [
    {
     "data": {
      "text/plain": [
       "[7, 2, 3, 4, 5]"
      ]
     },
     "execution_count": 38,
     "metadata": {},
     "output_type": "execute_result"
    }
   ],
   "source": [
    "a"
   ]
  },
  {
   "cell_type": "markdown",
   "id": "82a8b65d",
   "metadata": {},
   "source": [
    "- Write a function to count the number of even elements in an array."
   ]
  },
  {
   "cell_type": "code",
   "execution_count": 39,
   "id": "04633895",
   "metadata": {},
   "outputs": [],
   "source": [
    "count = 0\n",
    "for i in a:\n",
    "    if i % 2 == 0:\n",
    "        count += 1\n",
    "    else:\n",
    "        pass"
   ]
  },
  {
   "cell_type": "code",
   "execution_count": 40,
   "id": "7a3bacff",
   "metadata": {},
   "outputs": [
    {
     "data": {
      "text/plain": [
       "2"
      ]
     },
     "execution_count": 40,
     "metadata": {},
     "output_type": "execute_result"
    }
   ],
   "source": [
    "count"
   ]
  },
  {
   "cell_type": "markdown",
   "id": "7c3e929d",
   "metadata": {},
   "source": [
    "\n",
    "- Write a function to create a copy of an array."
   ]
  },
  {
   "cell_type": "code",
   "execution_count": 46,
   "id": "45246ab1",
   "metadata": {},
   "outputs": [],
   "source": [
    "\n",
    "another_array = [0] * len(a)\n",
    "for i in range(len(a)):\n",
    "    another_array[i] = a[i]"
   ]
  },
  {
   "cell_type": "code",
   "execution_count": 47,
   "id": "5390cb1a",
   "metadata": {},
   "outputs": [
    {
     "data": {
      "text/plain": [
       "[7, 2, 3, 4, 5]"
      ]
     },
     "execution_count": 47,
     "metadata": {},
     "output_type": "execute_result"
    }
   ],
   "source": [
    "another_array"
   ]
  },
  {
   "cell_type": "markdown",
   "id": "9a11273d",
   "metadata": {},
   "source": [
    "- Write a function to check if an array is a palindrome (reads the same forwards and backwards)."
   ]
  },
  {
   "cell_type": "code",
   "execution_count": 50,
   "id": "0178addc",
   "metadata": {},
   "outputs": [],
   "source": [
    "\n",
    "words = ['Chair', 'Level', 'Table', 'Civic', 'Radar', 'Banana', 'Deified', 'Computer', 'Apple', 'Racecar']"
   ]
  },
  {
   "cell_type": "code",
   "execution_count": 114,
   "id": "f65a71f3",
   "metadata": {},
   "outputs": [
    {
     "name": "stdout",
     "output_type": "stream",
     "text": [
      "True level\n",
      "True civic\n",
      "True radar\n",
      "True deified\n",
      "True racecar\n"
     ]
    }
   ],
   "source": [
    "for i in words:\n",
    "    i = i.lower()\n",
    "    if i == i[::-1]:\n",
    "        print('True', i)"
   ]
  },
  {
   "cell_type": "code",
   "execution_count": 56,
   "id": "ebb2dde8",
   "metadata": {},
   "outputs": [],
   "source": [
    "a = 'yash'"
   ]
  },
  {
   "cell_type": "code",
   "execution_count": 61,
   "id": "e13ac956",
   "metadata": {},
   "outputs": [],
   "source": [
    "# recursive palandrome\n",
    "\n",
    "def rec_pal(n):\n",
    "    if len(n) <= 1:\n",
    "        return True\n",
    "    \n",
    "    if n[0] == n[-1]:\n",
    "        return rec_pal(n[1:-1])\n",
    "    else:\n",
    "        return False"
   ]
  },
  {
   "cell_type": "code",
   "execution_count": 63,
   "id": "3ccaa275",
   "metadata": {},
   "outputs": [
    {
     "data": {
      "text/plain": [
       "True"
      ]
     },
     "execution_count": 63,
     "metadata": {},
     "output_type": "execute_result"
    }
   ],
   "source": [
    "rec_pal('radar')"
   ]
  },
  {
   "cell_type": "markdown",
   "id": "ad050bf3",
   "metadata": {},
   "source": [
    "- Write a function to find the index of a specific element in an array."
   ]
  },
  {
   "cell_type": "code",
   "execution_count": 77,
   "id": "0d86f64e",
   "metadata": {},
   "outputs": [],
   "source": [
    "\n",
    "def index_check(n):\n",
    "    user_input = input('enter value to check: ')\n",
    "    for i in range(0 , len(n)):\n",
    "        if n[i] == user_input:\n",
    "            print('index:', i)"
   ]
  },
  {
   "cell_type": "code",
   "execution_count": 79,
   "id": "8a184350",
   "metadata": {},
   "outputs": [
    {
     "name": "stdout",
     "output_type": "stream",
     "text": [
      "enter value to check: a\n",
      "index: 1\n"
     ]
    }
   ],
   "source": [
    "index_check('yash')"
   ]
  },
  {
   "cell_type": "markdown",
   "id": "3e3b43bd",
   "metadata": {},
   "source": [
    "- write a function to remove an element from an array"
   ]
  },
  {
   "cell_type": "code",
   "execution_count": 118,
   "id": "f1424423",
   "metadata": {},
   "outputs": [],
   "source": [
    "a = ['y', 'a', 's', 'h']"
   ]
  },
  {
   "cell_type": "code",
   "execution_count": 96,
   "id": "a92426e2",
   "metadata": {},
   "outputs": [],
   "source": [
    "def remove_fun(array, element):\n",
    "    final_output = []\n",
    "    for item in array:\n",
    "        if item == element:\n",
    "            pass\n",
    "        else:\n",
    "            final_output += item\n",
    "    return final_output"
   ]
  },
  {
   "cell_type": "code",
   "execution_count": 99,
   "id": "41c4a50a",
   "metadata": {},
   "outputs": [
    {
     "data": {
      "text/plain": [
       "['h', 'a']"
      ]
     },
     "execution_count": 99,
     "metadata": {},
     "output_type": "execute_result"
    }
   ],
   "source": [
    "remove_fun('has', 's')"
   ]
  },
  {
   "cell_type": "markdown",
   "id": "c2a609fc",
   "metadata": {},
   "source": [
    "- Given an array of integers, write a function to check if there are two numbers present such that their sum equals a given target."
   ]
  },
  {
   "cell_type": "code",
   "execution_count": 108,
   "id": "f612ab1e",
   "metadata": {},
   "outputs": [
    {
     "name": "stdout",
     "output_type": "stream",
     "text": [
      "True 3 3\n",
      "True 4 2\n"
     ]
    }
   ],
   "source": [
    "a = [1,2,3,4,5]\n",
    "target = 6\n",
    "\n",
    "for i in range(0, len(a)):\n",
    "    for j in range(1, i+1):\n",
    "        if a[i] + a[j] == target:  \n",
    "            print(True, a[i], a[j]) # wrong"
   ]
  },
  {
   "cell_type": "code",
   "execution_count": 111,
   "id": "9f2d3eb6",
   "metadata": {},
   "outputs": [],
   "source": [
    "a = [1,2,3,4,5]\n",
    "target = 7\n",
    "\n",
    "def two_sum_target(array, target):\n",
    "    for i in range(0, len(array)):\n",
    "        for j in range(i+1, len(array)):\n",
    "            if array[i] + array[j] == target:  \n",
    "                print(True, array[i], array[j])"
   ]
  },
  {
   "cell_type": "code",
   "execution_count": 112,
   "id": "66a6aa3b",
   "metadata": {},
   "outputs": [
    {
     "name": "stdout",
     "output_type": "stream",
     "text": [
      "True 2 5\n",
      "True 3 4\n"
     ]
    }
   ],
   "source": [
    "two_sum_target(a, target)"
   ]
  },
  {
   "cell_type": "code",
   "execution_count": null,
   "id": "c95ea571",
   "metadata": {},
   "outputs": [],
   "source": []
  }
 ],
 "metadata": {
  "kernelspec": {
   "display_name": "Python 3 (ipykernel)",
   "language": "python",
   "name": "python3"
  },
  "language_info": {
   "codemirror_mode": {
    "name": "ipython",
    "version": 3
   },
   "file_extension": ".py",
   "mimetype": "text/x-python",
   "name": "python",
   "nbconvert_exporter": "python",
   "pygments_lexer": "ipython3",
   "version": "3.11.4"
  }
 },
 "nbformat": 4,
 "nbformat_minor": 5
}
